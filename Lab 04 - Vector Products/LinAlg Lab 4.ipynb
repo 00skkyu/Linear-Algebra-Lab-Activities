{
 "cells": [
  {
   "cell_type": "markdown",
   "metadata": {},
   "source": [
    "# Linear Algebra for CpE\n",
    "## Laboratory 4 : Vector Operations\n",
    "<i> Coded and Submitted by:\n",
    "<br>ANGELO, Jamaica Joy S.\n",
    "<br>58010 </i>"
   ]
  },
  {
   "cell_type": "markdown",
   "metadata": {},
   "source": [
    "Now that you have a fundamental knowledge about linear combination, we'll try to apply the fundamental operations"
   ]
  },
  {
   "cell_type": "markdown",
   "metadata": {},
   "source": [
    "### Objectives\n",
    "At the end of this activity you will be able to:\n",
    "1. Refresh knowledge on vector operations while being familiar with new operations such as products.\n",
    "2. Visualize vector operations.\n",
    "3. Perform vector operations using Python."
   ]
  },
  {
   "cell_type": "markdown",
   "metadata": {},
   "source": [
    "## Discussion"
   ]
  },
  {
   "cell_type": "code",
   "execution_count": 3,
   "metadata": {},
   "outputs": [],
   "source": [
    "import numpy as np\n",
    "import matplotlib.pyplot as plt\n",
    "%matplotlib inline"
   ]
  },
  {
   "cell_type": "markdown",
   "metadata": {},
   "source": [
    "We have dealt with some of the vector operations in the last module, now we will dwell into more operations. In this laboratory, we will tackle addition,multiplication,division and the inner product of a vector."
   ]
  },
  {
   "cell_type": "markdown",
   "metadata": {},
   "source": [
    "## Vector Addition"
   ]
  },
  {
   "cell_type": "markdown",
   "metadata": {},
   "source": [
    "We have encountered vector before especially with your last activity. Vector addition is simply the element-wise addition of the scalar values of the vectors. Let's take the following vectors as a sample:\n",
    "\n",
    "$$A = \\begin{bmatrix}1\\\\2\\\\0\\end{bmatrix}, B= \\begin{bmatrix}3\\\\1\\\\-2 \\end{bmatrix}$$\n",
    "\n",
    "So if do a vector addition of these two vectors we'll get:\n",
    "\n",
    "$$A + B = \\begin{bmatrix}4\\\\3\\\\-2\\end{bmatrix}$$\n",
    "\n",
    "We can progammatically solve this using `np.add()` or simply using `+`."
   ]
  },
  {
   "cell_type": "code",
   "execution_count": 34,
   "metadata": {},
   "outputs": [],
   "source": [
    "A = np.array([1,2,0])\n",
    "B = np.array([3,1,-2])"
   ]
  },
  {
   "cell_type": "code",
   "execution_count": 35,
   "metadata": {},
   "outputs": [
    {
     "data": {
      "text/plain": [
       "array([ 4,  3, -2])"
      ]
     },
     "execution_count": 35,
     "metadata": {},
     "output_type": "execute_result"
    }
   ],
   "source": [
    "A+B"
   ]
  },
  {
   "cell_type": "code",
   "execution_count": 36,
   "metadata": {},
   "outputs": [
    {
     "data": {
      "text/plain": [
       "array([ 4,  3, -2])"
      ]
     },
     "execution_count": 36,
     "metadata": {},
     "output_type": "execute_result"
    }
   ],
   "source": [
    "np.add(A,B)"
   ]
  },
  {
   "cell_type": "markdown",
   "metadata": {},
   "source": [
    "## Vector Subtraction"
   ]
  },
  {
   "cell_type": "markdown",
   "metadata": {},
   "source": [
    "Vector subtraction is similar to your vector addition but you would need to scale the second vector using a negative scalar that is usuall $-1$. So if we subtract vector $B$ from vector $A$ we get:\n",
    "\n",
    "$$A-B = \\begin{bmatrix}-2\\\\1\\\\2\\end{bmatrix}$$\n",
    "\n",
    "In Python, this can be achieved by using `np.subtract()` or `-`"
   ]
  },
  {
   "cell_type": "code",
   "execution_count": 37,
   "metadata": {},
   "outputs": [
    {
     "data": {
      "text/plain": [
       "array([-2,  1,  2])"
      ]
     },
     "execution_count": 37,
     "metadata": {},
     "output_type": "execute_result"
    }
   ],
   "source": [
    "np.subtract(A,B)"
   ]
  },
  {
   "cell_type": "code",
   "execution_count": 38,
   "metadata": {},
   "outputs": [
    {
     "data": {
      "text/plain": [
       "array([-2,  1,  2])"
      ]
     },
     "execution_count": 38,
     "metadata": {},
     "output_type": "execute_result"
    }
   ],
   "source": [
    "A-B"
   ]
  },
  {
   "cell_type": "markdown",
   "metadata": {},
   "source": [
    "## Vector Multiplication"
   ]
  },
  {
   "cell_type": "markdown",
   "metadata": {},
   "source": [
    "Vector multiplication, like addition does its operations element-wise. So basic vector multiplication can be achieved by multiplying the elements or the scalars of the vectors individually. So:\n",
    "$$A * B = \\begin{bmatrix}3\\\\2\\\\0\\end{bmatrix}$$\n",
    "We can implement this in code by using `np.multiply()` or simply operating with `*`."
   ]
  },
  {
   "cell_type": "code",
   "execution_count": 39,
   "metadata": {},
   "outputs": [
    {
     "data": {
      "text/plain": [
       "array([3, 2, 0])"
      ]
     },
     "execution_count": 39,
     "metadata": {},
     "output_type": "execute_result"
    }
   ],
   "source": [
    "np.multiply(A,B)"
   ]
  },
  {
   "cell_type": "code",
   "execution_count": 40,
   "metadata": {},
   "outputs": [
    {
     "data": {
      "text/plain": [
       "array([3, 2, 0])"
      ]
     },
     "execution_count": 40,
     "metadata": {},
     "output_type": "execute_result"
    }
   ],
   "source": [
    "A*B"
   ]
  },
  {
   "cell_type": "markdown",
   "metadata": {},
   "source": [
    "## Vector Division"
   ]
  },
  {
   "cell_type": "markdown",
   "metadata": {},
   "source": [
    "Dividing a vector by another is uncommon, but if the situation specifies that each elements or scalars of the vector would be divided individually we can perform this by:\n",
    "$$A./B = \\begin{bmatrix}\\frac{1}{3}\\\\2\\\\0\\end{bmatrix}$$\n",
    "Take note that the notation we used here is $./$ for element-wise division, this notation is based in a MATLab notation for element-wise division. This can be achieved in Python using `np.divide()` or `/`."
   ]
  },
  {
   "cell_type": "code",
   "execution_count": 41,
   "metadata": {},
   "outputs": [
    {
     "data": {
      "text/plain": [
       "array([ 0.33333333,  2.        , -0.        ])"
      ]
     },
     "execution_count": 41,
     "metadata": {},
     "output_type": "execute_result"
    }
   ],
   "source": [
    "np.divide(A,B)"
   ]
  },
  {
   "cell_type": "code",
   "execution_count": 42,
   "metadata": {},
   "outputs": [
    {
     "data": {
      "text/plain": [
       "array([ 0.33333333,  2.        , -0.        ])"
      ]
     },
     "execution_count": 42,
     "metadata": {},
     "output_type": "execute_result"
    }
   ],
   "source": [
    "A/B"
   ]
  },
  {
   "cell_type": "markdown",
   "metadata": {},
   "source": [
    "## Modulus of a Vector"
   ]
  },
  {
   "cell_type": "markdown",
   "metadata": {},
   "source": [
    "The modulus of a vector or the magnitude of a vector can be determined using the Pythagorean theorem. Given the vector $A$ and its scalars denoted as $a_n$ where $n$ is the index of the scalar. So if we have:\n",
    "$$A = \\begin{bmatrix}1\\\\2\\end{bmatrix}$$\n",
    "We can compute the magnitude as:\n",
    "$$||A|| = \\sqrt{a_1^2 + a_2^2} = \\sqrt{1^2 + 2^2} = \\sqrt{5}$$\n",
    "So if we have a matrix with more parameters such as:\n",
    "$$B=\\begin{bmatrix}2\\\\5\\\\-1\\\\0\\end{bmatrix}$$\n",
    "We can generalize the Pythagorean theorem to compute for the magnitude as:\n",
    "$$||B|| = \\sqrt{b_1^2 + b_2^2 + b_3^2 + ... +b_n^2} = \\sqrt{\\sum_{n=1}^{N}b_n^2}$$\n",
    "And this equation is now called a Euclidian distance or the Euclidean Norm. We can implement this explicitly by for loops or using `np.linalg.norm()` to get the Euclidian Norm."
   ]
  },
  {
   "cell_type": "code",
   "execution_count": 44,
   "metadata": {},
   "outputs": [],
   "source": [
    "A = np.array([1,2])\n",
    "B = np.array([2,5,-1,0])"
   ]
  },
  {
   "cell_type": "code",
   "execution_count": 46,
   "metadata": {},
   "outputs": [
    {
     "data": {
      "text/plain": [
       "2.23606797749979"
      ]
     },
     "execution_count": 46,
     "metadata": {},
     "output_type": "execute_result"
    }
   ],
   "source": [
    "np.linalg.norm(A)"
   ]
  },
  {
   "cell_type": "code",
   "execution_count": 48,
   "metadata": {},
   "outputs": [
    {
     "data": {
      "text/plain": [
       "5.477225575051661"
      ]
     },
     "execution_count": 48,
     "metadata": {},
     "output_type": "execute_result"
    }
   ],
   "source": [
    "np.linalg.norm(B)"
   ]
  },
  {
   "cell_type": "markdown",
   "metadata": {},
   "source": [
    "## Vector Dot Product / Inner Product"
   ]
  },
  {
   "cell_type": "markdown",
   "metadata": {},
   "source": [
    "The inner product of a vector is the sum of the products of each elements of the vectors. So given vectors $H$ and $G$ below:\n",
    "$$H=\\begin{bmatrix}1\\\\3\\\\6\\end{bmatrix}, G = \\begin{bmatrix}5\\\\2\\\\1\\end{bmatrix}$$\n",
    "We first take the element-wise product of the vectors:\n",
    "$$H*G = \\begin{bmatrix}5\\\\6\\\\6\\end{bmatrix}$$\n",
    "Then we take the sum of the products, making it the inner product of a vector:\n",
    "$$H\\cdot G = 17$$\n",
    "You can solve for the inner product using an explicit function, `np.inner()` or the `@` operator."
   ]
  },
  {
   "cell_type": "code",
   "execution_count": 49,
   "metadata": {},
   "outputs": [],
   "source": [
    "H = np.array([1,3,6])\n",
    "G = np.array([5,2,1])"
   ]
  },
  {
   "cell_type": "code",
   "execution_count": 50,
   "metadata": {},
   "outputs": [
    {
     "data": {
      "text/plain": [
       "17"
      ]
     },
     "execution_count": 50,
     "metadata": {},
     "output_type": "execute_result"
    }
   ],
   "source": [
    "np.inner(H,G)"
   ]
  },
  {
   "cell_type": "code",
   "execution_count": 53,
   "metadata": {},
   "outputs": [
    {
     "data": {
      "text/plain": [
       "17"
      ]
     },
     "execution_count": 53,
     "metadata": {},
     "output_type": "execute_result"
    }
   ],
   "source": [
    "H @ G"
   ]
  },
  {
   "cell_type": "markdown",
   "metadata": {},
   "source": [
    "## Activity"
   ]
  },
  {
   "cell_type": "markdown",
   "metadata": {},
   "source": [
    "### Task 1"
   ]
  },
  {
   "cell_type": "markdown",
   "metadata": {},
   "source": [
    "Make an explicit function (not using any of NumPy's preset functions) solving the modulus of a vector using the Euclidian Norm formula: \n",
    "$$||X|| = \\sqrt{\\sum_{n=1}^{N}x_n^2}$$\n",
    "Create a program flowchart for your algorithm and explain it in your methodology. Create 6 different vectors which their element count should not be lower than 4 elements. Explain the results at the results discussion section while comparing them to the `np.linalg.norm()` function."
   ]
  },
  {
   "cell_type": "code",
   "execution_count": 8,
   "metadata": {},
   "outputs": [
    {
     "name": "stdout",
     "output_type": "stream",
     "text": [
      "ANSWERS: \n",
      "23.8956\n",
      "17.5499\n",
      "18.8414\n",
      "28.1247\n",
      "35.9583\n",
      "25.6515\n"
     ]
    }
   ],
   "source": [
    "# without using NumPy's presets (np.linalg.norm), set each vectors with a different set of numbers:\n",
    "vector1 = [1,4,19,7,12]\n",
    "vector2 = [4,7,3,15,3]\n",
    "vector3 = [5,3,7,4,16]\n",
    "vector4 = [13,5,8,22,7]\n",
    "vector5 = [30,2,17,6,8]\n",
    "vector6 = [3,23,4,2,10]\n",
    "\n",
    "# using the import math function in order to solve for the modulus of a vector:\n",
    "# to make an explicit function, use the define and return function:\n",
    "import math\n",
    "def vectors(v):\n",
    "    return math.sqrt(v[0]**2 + v[1]**2 + v[2]**2 + v[3]**2 + v[4]**2)\n",
    "\n",
    "# printing the answers with four decimal places for accuracy:\n",
    "print('ANSWERS: ' )\n",
    "print('{:.4f}'.format(vectors(vector1)))\n",
    "print('{:.4f}'.format(vectors(vector2)))\n",
    "print('{:.4f}'.format(vectors(vector3)))\n",
    "print('{:.4f}'.format(vectors(vector4)))\n",
    "print('{:.4f}'.format(vectors(vector5)))\n",
    "print('{:.4f}'.format(vectors(vector6)))"
   ]
  },
  {
   "cell_type": "markdown",
   "metadata": {},
   "source": [
    "### FLOWCHART\n",
    "<img src=\"img/task1flowchart.jpeg\" width=400 align=\"center\"/>"
   ]
  },
  {
   "cell_type": "markdown",
   "metadata": {},
   "source": [
    "### METHODOLOGY\n",
    "Without using NumPy's presets—`np.linalg.norm()`, I've set each vectors with a different set of numbers with each of them having 6 elements. This creates a list of numbers to be used to solve using the Euclidian Formula. Then, used the <i>import math</i> function in order to solve for the modulus of a vector in the formula. It basically gives access to the underlying C functions. To make an explicit function, I used the <i>define</i> function and used <i>vectors(v)</i>. The <i>return</i> function then computes for the values using the <i>sqrt()</i> function. This is used to end the execution of the function call and <i>returns</i> the result to the caller. The `np.linalg.norm()` function finds the value of the matrix norm or the vector norm. The parameter `ord` will then decide on whether the function will find the vector norm or the matrix norm. Meanwhile, `math.sqrt(v[0]**2 + v[1]**2 + v[2]**2 + v[3]**2 + v[4]**2)` will then compute for the answer explicitly. I think, using the `np.linalg.norm()` is much better because you don't have to use the define function to solve for the answer using the formula given and it will only take little space in the cell.\n",
    "\n",
    "<br> The functions used in this cell are the following:\n",
    " - <i>vector1[values]</i>: without using the `np.linalg.norm()`, this sets each vectors with a different set of numbers that were randomly chosen.\n",
    " - <i>import math</i>: in order to solve the modulus of the vector in the <i>Euclidian Formula</i>, this is used because without this library, the numbers in the vector[values] won't be solved.\n",
    " - <i>define</i>: this specifies the parameters that are going to be included in the function. In this case, the <i>vectors(v)</i>\n",
    " - <i>return</i>: this is used to end the execution of the function and then computes for the values using the <i>sqrt()</i> function\n",
    " - <i>print('{:.4f}')</i>: this is used to print the output with four decimal places for accuracy. It can also be in 2 decimal places or whatever floats the programmer's boat."
   ]
  },
  {
   "cell_type": "markdown",
   "metadata": {},
   "source": [
    "### Task 2"
   ]
  },
  {
   "cell_type": "markdown",
   "metadata": {},
   "source": [
    "Make an explicit function (not using any of NumPy's preset functions nor the `@` operator) solving the inner product of two vectors using the inner product formula: \n",
    "$$A\\cdot B = \\sum_{n=1}^{N} a_n \\times b_n $$\n",
    "$$whereas: N = len(A) = len(B)$$\n",
    "Create a program flowchart for your algorithm and explain it in your methodology. Create 5 distinct pairs vectors which their element count should not be lower than 5 elements. Explain the results at the results discussion section while comparing them to the `np.inner()` function."
   ]
  },
  {
   "cell_type": "code",
   "execution_count": 1,
   "metadata": {},
   "outputs": [
    {
     "name": "stdout",
     "output_type": "stream",
     "text": [
      "ANSWERS:\n",
      "1270\n",
      "596\n",
      "68\n",
      "510\n",
      "2304\n",
      "372\n"
     ]
    }
   ],
   "source": [
    "#setting values for the formula from A to L:\n",
    "A = [2,8,12,18,22]\n",
    "B = [5,15,25,10,30]\n",
    "C = [6,12,24,36,5]\n",
    "D = [1,4,7,9,10]\n",
    "E = [3,6,8,1,5]\n",
    "F = [1,2,3,4,5]\n",
    "G = [6,7,8,9,10]\n",
    "H = [15,14,13,12,11]\n",
    "I = [20,18,19,16,17]\n",
    "J = [11,22,33,44,21]\n",
    "K = [12,24,3,5,8]\n",
    "L = [3,6,4,12,15]\n",
    "\n",
    "#to make an explicit function, use the define and return function.\n",
    "#'inner_prod' = inner/ dot product.\n",
    "def inner_prod(a1, b1):\n",
    "    return sum(a * b for a,b in zip(a1,b1))\n",
    "\n",
    "#print the answers:\n",
    "print('ANSWERS:')\n",
    "print((inner_prod(A,B)))\n",
    "print((inner_prod(C,D)))\n",
    "print((inner_prod(E,F)))\n",
    "print((inner_prod(G,H)))\n",
    "print((inner_prod(I,J)))\n",
    "print((inner_prod(K,L)))"
   ]
  },
  {
   "cell_type": "markdown",
   "metadata": {},
   "source": [
    "### FLOWCHART\n",
    "<img src=\"img/task2flowchart.jpeg\" width=400 align=\"center\"/>"
   ]
  },
  {
   "cell_type": "markdown",
   "metadata": {},
   "source": [
    "### METHODOLOGY\n",
    "The methodology of this task is similar to task 1 except we are tasked to make an explicit function without any of the NumPy's presets nor the `@` function. The explicit function should solve the inner product of the two vectors using the inner product formula. For this task, I've set values for the given formula from A to L because the element count should be not lower than 5, and so I made it into 6 elements. The numbers has five of them and are randomly in each element. After doing so, it will then create a list of numbers from A to L. Then, it will be defined by the inner/ dot product. Just like in task 1, the define and return function is used then it will get the sum of the products of each elements of the vectors without the help of the `np.inner()` function. Then it will be explicitly computed using the `sum(a * b for a,b in zip(a1,b1))`. Lastly, the output of the elements are then printed. The `np.inner()` is used to calculate the inner product of the two arrays. This is only used on the ordinary inner product of vectors for the 1-dimensional arrays which basically means is the sum of the products of each elements of the vectors. Meanwhile, `sum(a * b for a,b in zip(a1,b1))` is used explicitly I used the zip function so that the functiontakes in iterables as the arguments and then returns an iterator which in this case, solves the elements. Using the `np.inner()` is much better because, once again, you don't have to use the define function to solve for the answer using the formula given. It will only take less space rather that to use two or more lines of code."
   ]
  },
  {
   "cell_type": "markdown",
   "metadata": {},
   "source": [
    "### Task 3"
   ]
  },
  {
   "cell_type": "markdown",
   "metadata": {},
   "source": [
    "Code the following vector operation and solve them using the given vector values"
   ]
  },
  {
   "cell_type": "markdown",
   "metadata": {},
   "source": [
    "$$ ((A^2 + B^2) * (A * (B + A*B)./C))*||A + B||$$\n",
    "$$A = \\begin{bmatrix}-0.4\\\\0.3\\\\-0.6\\end{bmatrix}, B = \\begin{bmatrix}-0.2\\\\0.2\\\\1\\end{bmatrix}, C = \\begin{bmatrix}0.2\\\\0.1\\\\-0.5\\end{bmatrix}$$"
   ]
  },
  {
   "cell_type": "markdown",
   "metadata": {},
   "source": [
    "Create a program flowchart for your algorithm and explain it in your methodology. In your results, compare your answer to the expected output, visualize, and explain the resulting vector using a 3D plot."
   ]
  },
  {
   "cell_type": "code",
   "execution_count": 74,
   "metadata": {},
   "outputs": [
    {
     "data": {
      "text/plain": [
       "array([0.34769805, 1.13001866, 0.6953961 ])"
      ]
     },
     "execution_count": 74,
     "metadata": {},
     "output_type": "execute_result"
    }
   ],
   "source": [
    "# use the vector values on the given vector operation and label them as A, B, C:\n",
    "A = np.array([-0.4,0.3,-0.6])\n",
    "B = np.array([-0.2,0.2,1])\n",
    "C = np.array([0.2,0.1,-0.5])\n",
    "\n",
    "# 'abs_val' = absolute value\n",
    "# from the absolute value in the given formula:\n",
    "abs_val = abs(A + B + C)\n",
    "\n",
    "# this is from the formula in the given:\n",
    "((A@A) + (B@B) + (C@C)) * (A * (B + A * B)/C) * (np.linalg.norm(absolute_value))"
   ]
  },
  {
   "cell_type": "code",
   "execution_count": 4,
   "metadata": {},
   "outputs": [
    {
     "data": {
      "image/png": "[encoded data removed]",
      "text/plain": [
       "<Figure size 432x288 with 1 Axes>"
      ]
     },
     "metadata": {
      "needs_background": "light"
     },
     "output_type": "display_data"
    }
   ],
   "source": [
    "# the resulting vector should be plotted in 3-dimensional so these values are placed on the x, y, and z axes.\n",
    "ANS = np.array([\n",
    "    [0.34769805,0,0],\n",
    "    [0,1.13001866,0],\n",
    "    [0,0,0.6953961]\n",
    "])\n",
    "\n",
    "fig = plt.figure()\n",
    "ax1 = fig.gca(projection = '3d') # fig.gca() gets the current axes in order to create a 3D instance.\n",
    "\n",
    "# set_xlim, y-lim, and z-lim is used to get or set the x, y, and z-limits of the current axes.\n",
    "ax1.set_xlim([0,1.5])\n",
    "ax1.set_ylim([0,1.5])\n",
    "ax1.set_zlim([0,1.5])\n",
    "\n",
    "origin = (0,0,0)\n",
    "ax1.quiver(origin, origin, origin, ANS[:,0], ANS[:,1], ANS[:,2],arrow_length_ratio = 0.2, colors = ['salmon','magenta','lightseagreen']) # quiver plots a 2D field of arrows in the plane. It basically plots vectors as arrows at the coordinates specified in each corresponding pair of elements in x, y, and z.\n",
    "plt.show()"
   ]
  },
  {
   "cell_type": "markdown",
   "metadata": {},
   "source": [
    "Expected answer: <br>\n",
    "`array([ 0.34769805, 1.13001866, 0.6953961 ])`"
   ]
  },
  {
   "cell_type": "markdown",
   "metadata": {},
   "source": [
    "### FLOWCHART\n",
    "<b>FIRST PART:</b>\n",
    "<img src=\"img/task3flowchart.jpeg\" width=400 align=\"center\"/>\n",
    "<b>SECOND PART:</b>\n",
    "<img src=\"img/task3pt2flowchart.jpeg\" width=400 align=\"center\"/>"
   ]
  },
  {
   "cell_type": "markdown",
   "metadata": {},
   "source": [
    "### METHODOLOGY\n",
    "In this task, we are tasked to code the given vector operation and solve them using the given vector values. I used the vector values on the given vector operation and labelled them as A, B, C, then placed it in an array. Then, according to the formula, it should be solved using the absolute value of the vectors and A, B, C will be added in order to get the absolute value. Since there are no restrictions on whether we should use the NumPy presets, the given vector operations is derived into `((A@A) + (B@B) + (C@C)) * (A * (B + A * B)/C) * (np.linalg.norm(absolute_value))` and the output would be `array([0.34769805, 1.13001866, 0.6953961 ])`. As for the second cell, the resulting vector should be plotted in 3-dimensional so these values are placed on the x, y, and z axes. In this case: `[0.34769805,0,0], [0,1.13001866,0], [0,0,0.6953961]`\n",
    "<br> - 0.34769805 as the x, 0 as y, and the other 0 as z.\n",
    "<br> - the first 0 as the x, 1.13001866 as y, and the last 0 would be z.\n",
    "<br> - the first 0 as the x, second 0 as y, and 0.6953961 as z.\n",
    "<br> \n",
    "<br> Then, the <i>plt.figure</i> is used to create a figure object. Then, set_xlim, y-lim, and z-lim is used to get or set the x, y, and z-limits of the current axes. Then, `origin(0,0,0)` to set the origin. Next `ax1.quiver(origin, origin, origin, ANS[:,0], ANS[:,1], ANS[:,2],arrow_length_ratio = 0.2, colors = ['salmon','magenta','lightseagreen'])` is used. The <i>quiver</i>  plots a 2D field of arrows in the plane. It basically plots vectors as arrows at the coordinates specified in each corresponding pair of elements in x, y, and z. `arrow_length_ratio = 0.2` sets the arrow length in the plane. In this case, I've set it into 0.2 so that it should be just the same size and `colors` to set the colours of the arrows. Lastly, the `plt.show()` to display and show the values. The expected output is just the same with the values that I've computed since the formula given computes for the numbers that were given."
   ]
  },
  {
   "cell_type": "markdown",
   "metadata": {},
   "source": [
    "## Conclusion guide"
   ]
  },
  {
   "cell_type": "markdown",
   "metadata": {},
   "source": [
    "For your conclusion synthesize the concept and application of the laboratory. Briefly discuss what you have learn and achieved in this activity. "
   ]
  }
 ],
 "metadata": {
  "kernelspec": {
   "display_name": "Python 3",
   "language": "python",
   "name": "python3"
  },
  "language_info": {
   "codemirror_mode": {
    "name": "ipython",
    "version": 3
   },
   "file_extension": ".py",
   "mimetype": "text/x-python",
   "name": "python",
   "nbconvert_exporter": "python",
   "pygments_lexer": "ipython3",
   "version": "3.8.3"
  }
 },
 "nbformat": 4,
 "nbformat_minor": 4
}
