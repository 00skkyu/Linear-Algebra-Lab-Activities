{
 "cells": [
  {
   "cell_type": "markdown",
   "metadata": {},
   "source": [
    "# Linear Algebra (CpE210A)"
   ]
  },
  {
   "cell_type": "markdown",
   "metadata": {},
   "source": [
    "#### <br>Laboratory 1: Getting acquainted with Python"
   ]
  },
  {
   "cell_type": "markdown",
   "metadata": {},
   "source": [
    "<br>Coded and submitted by:\n",
    "<br><i>ANGELO, Jamaica Joy S.\n",
    "<br>58010"
   ]
  },
  {
   "cell_type": "markdown",
   "metadata": {},
   "source": [
    "##### <br>Lab Exercises:"
   ]
  },
  {
   "cell_type": "code",
   "execution_count": 77,
   "metadata": {},
   "outputs": [
    {
     "name": "stdout",
     "output_type": "stream",
     "text": [
      "Charmander at level 15\n",
      "Pidgey at level 11\n",
      "Sandshrew at level 18\n",
      "Rattata at level 5\n",
      "Abra at level 14\n"
     ]
    }
   ],
   "source": [
    "party = [\"Charmander\", \"Pidgey\", \"Sandshrew\", \"Rattata\", \"Abra\"]\n",
    "levels = [15, 11, 18, 5, 14]\n",
    "\n",
    "for (pokemon, levels) in zip (party, levels): print (pokemon, \"at level\", levels)\n",
    "    #zip method is used in order to execute the elements that are inside the parenthesis (pokemon, levels) at the same time \n",
    "    #so that they can be used as a single entity."
   ]
  },
  {
   "cell_type": "code",
   "execution_count": 70,
   "metadata": {},
   "outputs": [
    {
     "name": "stdout",
     "output_type": "stream",
     "text": [
      "['Unown', 'Magikarp', 'Feebas']\n"
     ]
    }
   ],
   "source": [
    "reserves = [\n",
    "    ('Onix',10),\n",
    "    ('Slowpoke',18),\n",
    "    ('Dialga', 2),\n",
    "    ('Magikarp', 32),\n",
    "    ('Feebas', 22),\n",
    "    ('Swablu', 19),\n",
    "    ('Regigigas', 3),\n",
    "    ('Unown', 50)\n",
    "    ]\n",
    "#these are the tuple reserves \n",
    "\n",
    "reserves.sort(reverse = True, key = lambda lvl: lvl[1]); picks = [pick[0] for pick in reserves[:3]]; print(picks)\n",
    "# the sort method sorts the elements of a given list in ascending or descending order.\n",
    "# to sort the level, the lambda method is used. the purpose of lambda is to declare an anonymous function.\n",
    "# list comprehension is used to define and create lists based on the existing list\n",
    "# (cont.) and to loop with the 3 pokemon "
   ]
  },
  {
   "cell_type": "code",
   "execution_count": 63,
   "metadata": {},
   "outputs": [],
   "source": [
    "def create_party(party, candidates): #using the def keyword, a create_party function is defined with the party and candidates parameter\n",
    "    suggested_parties = party        #this was added since the list items in party located in cell 1 and will then add the reserves located in cell 2 will be used.\n",
    "    \n",
    "    suggested_parties.append(candidates[0]) #the append method is used to add candidate 0 to suggested_party.\n",
    "    print(suggested_parties) #the print method is used to show the suggested parties together with candidate 0 that was previously appended.\n",
    "    suggested_parties.pop() #the pop method is used to remove the appended candidate 0 from the list\n",
    "    suggested_parties.append(candidates[1])\n",
    "    print(suggested_parties)\n",
    "    suggested_parties.pop()\n",
    "    suggested_parties.append(candidates[2])\n",
    "    return suggested_parties #the return statement causes the function to exit and 'return' the value back to the suggested_parties."
   ]
  },
  {
   "cell_type": "code",
   "execution_count": 78,
   "metadata": {},
   "outputs": [
    {
     "name": "stdout",
     "output_type": "stream",
     "text": [
      "['Charmander', 'Pidgey', 'Sandshrew', 'Rattata', 'Abra', 'Unown']\n",
      "['Charmander', 'Pidgey', 'Sandshrew', 'Rattata', 'Abra', 'Magikarp']\n"
     ]
    },
    {
     "data": {
      "text/plain": [
       "['Charmander', 'Pidgey', 'Sandshrew', 'Rattata', 'Abra', 'Feebas']"
      ]
     },
     "execution_count": 78,
     "metadata": {},
     "output_type": "execute_result"
    }
   ],
   "source": [
    "create_party(party,picks) #in here, create_party is being called together with the variables party and the pokemon"
   ]
  },
  {
   "cell_type": "code",
   "execution_count": null,
   "metadata": {},
   "outputs": [],
   "source": []
  }
 ],
 "metadata": {
  "kernelspec": {
   "display_name": "Python 3",
   "language": "python",
   "name": "python3"
  },
  "language_info": {
   "codemirror_mode": {
    "name": "ipython",
    "version": 3
   },
   "file_extension": ".py",
   "mimetype": "text/x-python",
   "name": "python",
   "nbconvert_exporter": "python",
   "pygments_lexer": "ipython3",
   "version": "3.8.3"
  }
 },
 "nbformat": 4,
 "nbformat_minor": 4
}
