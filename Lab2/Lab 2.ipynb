{
 "cells": [
  {
   "cell_type": "markdown",
   "metadata": {},
   "source": [
    "## Linear Algebra (CpE210A)"
   ]
  },
  {
   "cell_type": "markdown",
   "metadata": {},
   "source": [
    "#### <br>Laboratory 2: Plotting Vectors using NumPy and MatPlotLib\n",
    "\n",
    "<br>Coded and submitted by:\n",
    "<br><i>ANGELO, Jamaica Joy S.\n",
    "<br>58010"
   ]
  },
  {
   "cell_type": "markdown",
   "metadata": {},
   "source": [
    "##### <b>Lab Exercises:</b>"
   ]
  },
  {
   "cell_type": "code",
   "execution_count": 13,
   "metadata": {},
   "outputs": [],
   "source": [
    "import numpy as np\n",
    "import matplotlib.pyplot as plt\n",
    "import matplotlib\n",
    "\n",
    "%matplotlib inline"
   ]
  },
  {
   "cell_type": "markdown",
   "metadata": {},
   "source": [
    "## <b>Part 1: Skyline Eagle Fly</b>"
   ]
  },
  {
   "cell_type": "markdown",
   "metadata": {},
   "source": [
    "You are tasked to make a tracking device for Philippine Eagles at the Philippine Eagle Center at Davao. The tracker sensors only give the longitudinal and latitudinal distance (meters) of the eagle's position relative to their nests which we will treat as the origin of the tracking view. We want to determine the relative <b>displacement</b> of the eagle from its nest. It is expected that the eagles will change exactly two times, it can then be assumed that the program will show three displacements. Please make a prototype code using the additional information given below:"
   ]
  },
  {
   "cell_type": "markdown",
   "metadata": {},
   "source": [
    "Consider the computational algorithm:\n",
    "\n",
    "Let the eagle's longitudinal and latitudinal be  $long$  and  $lat$  respectively.\n",
    "Let the eagle's total distance as  disttotal , displacement be  $disp$ , and  $\\theta$  as the direction of the vector."
   ]
  },
  {
   "cell_type": "markdown",
   "metadata": {},
   "source": [
    "$ (Eq.1)dist_{total} = (long_{total})\\hat{x} + (lat_{total})hat{y} $\n",
    "<br> $ (Eq.2) disp = \\sqrt{dist_x^{2} + dist_y^{2}} $\n",
    "<br> $ (Eq.3) {\\theta} = arctan (\\frac{y}{\\alpha x})$"
   ]
  },
  {
   "cell_type": "code",
   "execution_count": 18,
   "metadata": {},
   "outputs": [
    {
     "data": {
      "image/png": "[encoded data removed]",
      "text/plain": [
       "<Figure size 720x720 with 1 Axes>"
      ]
     },
     "metadata": {
      "needs_background": "light"
     },
     "output_type": "display_data"
    }
   ],
   "source": [
    "## START OF FUNCTION\n",
    "%matplotlib inline\n",
    "def track_eagle(make_figs=True):\n",
    "    long = np.random.randint(-10,10, size=3) ## since we don't actually have eagle tracking data we will use\n",
    "    lat = np.random.randint(-10,10, size=3)  ## random integers for this activity. These two lines will produce\n",
    "                                             ## a vector with shape of (3,) describing the distances for the \n",
    "                                             ## eagle's flight.\n",
    "\n",
    "    dist1 = np.array([long[0], lat[0]])                             ## setup the array for each vector for the eagle's flight.\n",
    "    dist2 = np.array([long[1], lat[1]])\n",
    "    dist3 = np.array([long[2], lat[2]])\n",
    "\n",
    "    dist_total = dist1 + dist2 + dist3                              ## formula for the resultant vector for the eagle's flight.\n",
    "    disp  = np.linalg.norm(dist_total)                              ## formula for the magnitude of the displacement\n",
    "    alpha = 10**-6\n",
    "    theta = np.arctan((dist_total[1])/(dist_total[0] + alpha))      ## computes for the angle of the displacement.\n",
    "    theta = np.degrees(theta)                                       ## converts theta from rad to deg.\n",
    "     \n",
    "        ## Plotting the PH Eagle flight vectors.\n",
    "    plt.figure(figsize=(10,10))\n",
    "    plt.title('Philippine Eagle Flight Plotter')\n",
    "    plt.xlim(-30, 30)\n",
    "    plt.ylim(-30, 30)\n",
    "    plt.xlabel('Latitudinal Distance')\n",
    "    plt.ylabel('Longitudinal Distance')\n",
    "    plt.grid()\n",
    "    n = 2\n",
    "    \n",
    "    \n",
    "     ### Self-discovery code block (Refer to guide question 2 for the task)\n",
    "        \n",
    "        # Parameters of quiver([X, Y], U, V, [C], **kw)\n",
    "        #[X, Y] as the location of the arrow\n",
    "        #U, V as the direction of the arrow\n",
    "        # C sets the color of the arrows\n",
    "        # Units - to plot the vectors in the x-y plane, with u and v having the same units as x and y, \n",
    "            # Angles - determines the angle of the arrows: \n",
    "                # (cont.) use angles = 'xy', \n",
    "            # Scale - this is the number of data units per lenth of arrow\n",
    "                # use scale = 1.\n",
    "            # scale_units - used to set the units with wrt x and y\n",
    "                # scale_units='xy',\n",
    "\n",
    "        \n",
    "    #Trajectory 1 - RED ARROW:\n",
    "    plt.quiver(0,0, dist1[0], dist1[1], \n",
    "               angles='xy', scale_units='xy',scale=1, color='red', \n",
    "               label='Trajectory 1: {:.2f}m.'.format(np.linalg.norm(dist1)))\n",
    "    \n",
    "    #Trajectory 2 - BLUE ARROW:\n",
    "    plt.quiver(dist1[0], dist1[1], dist2[0], dist2[1], \n",
    "               angles='xy', scale_units='xy',scale=1, color='blue',\n",
    "              label='Trajectory 2: {:.2f}m.'.format(np.linalg.norm(dist2)))\n",
    "    \n",
    "    #Trajectory 3 - GREEN ARROW:\n",
    "    plt.quiver(np.add(dist1[0],dist2[0]), np.add(dist1[1],dist2[1]),\n",
    "               dist3[0], dist3[1], angles='xy', scale_units='xy',scale=1, color='green',\n",
    "              label='Trajectory 3: {:.2f}m.'.format(np.linalg.norm(dist3)))\n",
    "    \n",
    "    #Total Displacement - ORANGE ARROW:\n",
    "    plt.quiver(0,0, dist_total[0], dist_total[1], \n",
    "               angles='xy', scale_units='xy',scale=1, color='orange',\n",
    "              label='Displacement: {:.2f}m. @ {:.2f}'.format(disp, theta))\n",
    "    \n",
    "    plt.legend() #places the legend on the axes\n",
    "    \n",
    "    if make_figs:\n",
    "        plt.savefig(f'LinAlg-Lab2-PH Eagle-{int(disp)}@{int(theta)}.png', dpi=300)\n",
    "    \n",
    "    plt.show()\n",
    "    \n",
    "## END OF FUNCTION  \n",
    "track_eagle(make_figs = False) #Let make_figs be equal to FALSE when executing the code."
   ]
  },
  {
   "cell_type": "markdown",
   "metadata": {},
   "source": [
    "### Guide Questions:"
   ]
  },
  {
   "cell_type": "markdown",
   "metadata": {},
   "source": [
    "1. What is the use of the variable  α ?\n",
    "   <p style='text-align: justify;'> - To prevent dividing by 0, the alpha was added because it might cause an error.</p>\n",
    "2. Kindly explain the process of plotting the eagle flight vectors.\n",
    "    - A *plt.quiver()* function displays the velocity vectors. In cell 1, there are 4 quiver plots naming Trajectory 1, Trajectory 2, Trajectory 3, and the Total Displacement. The parameters that was used is quiver’s call signature *quiver([X, Y], U, V, [C], scale, angles, scale_units, units)*. X, Y serves as the arrow location’s starting point. The xy in Trajectories 1, 2, 3, and Total Displacement are: \n",
    "         - 0,0, dist1[0], dist1[1]\n",
    "         - np.add(dist1[0],dist2[0]\n",
    "         - np.add(dist1[1],dist2[1]\n",
    "         - 0,0\n",
    "    - The reason behind this xy values is shown on the graph in which Trajectories 1, 2, and 3 are connected to 0,0 as the origin can be seen. These values will display 3 connected vectors from the origin to the end of Trajectory 3 resulting a Total Displacement.  U, V is then defined as the location of the arrow and will act as the direction in which Trajectories 1, 2, 3, and the Total Displacement will point towards to. Meanwhile, U, V in Trajectories 1, 2, 3, and Total Displacement are: </p>\n",
    "         - dist1[0], dist1[1], dist2[0], dist2[1]\n",
    "         - dist3[0], dist3[1]\n",
    "         - dist_total[0], dist_total[1]\n",
    "    - These U, V values are created using a randomly generated values in the longitude and latitude variables. While C sets the color of the arrows for easy recognition. Lastly, to plot the vectors in the x-y plane, u, v has the same units as x,y which are *angles = ‘xy’, scale_units = ‘xy’, and scale = 1*. *Plt.legend()* places the legend on the axes and *plt.show()* will display and show all the figures and it will not return unless all the windows are closed.\n",
    "\n",
    "3. Provide a flow chart describing the 'track_eagle' function. Please use LucidCharts or similar apps in making charts.\n"
   ]
  },
  {
   "cell_type": "markdown",
   "metadata": {},
   "source": [
    "### FLOWCHART:"
   ]
  },
  {
   "cell_type": "markdown",
   "metadata": {},
   "source": [
    "<img src=\"img/flowchart.jpeg\" width=700 align=\"center\"/>"
   ]
  },
  {
   "cell_type": "markdown",
   "metadata": {},
   "source": [
    "### SCREENSHOTS:"
   ]
  },
  {
   "cell_type": "markdown",
   "metadata": {},
   "source": [
    "<img src=\"img/plot 1.jpeg\" width=550 align=\"center\"/>"
   ]
  },
  {
   "cell_type": "markdown",
   "metadata": {},
   "source": [
    "<img src=\"img/plot 2.jpeg\" width=550 align=\"center\"/>"
   ]
  },
  {
   "cell_type": "markdown",
   "metadata": {},
   "source": [
    "<img src=\"img/plot 3.jpeg\" width=550 align=\"center\"/>"
   ]
  },
  {
   "cell_type": "markdown",
   "metadata": {},
   "source": [
    "<img src=\"img/plot 4.jpeg\" width=550 align=\"center\"/>"
   ]
  },
  {
   "cell_type": "markdown",
   "metadata": {},
   "source": [
    "## <b>Part 2: Reverse Engineering\n",
    "Your project manager found out that the previous engineer that handled the project did some sort of algorithm regarding the eagles. He gave you the piece code for you to analyze and required you to make a documentation out of it. The code is given below.\n",
    "<br> The *def eagle_kinematics* goal is to get the position of *position_total, velocity_total,* and the *acceleration_total*. Below is the computational algorithm:\n",
    "<br> $ s_t = $ sum of $ [position[\\colon]] \\times [totalvector[\\colon]] $\n",
    "<br> $ v_t = $ sum of $ [velocity[\\colon]] \\times [totalvector[1\\colon]] $\n",
    "<br> $ a_t = $ sum of $ [acceleration[\\colon]] \\times [totalvector[2\\colon]] $"
   ]
  },
  {
   "cell_type": "code",
   "execution_count": 6,
   "metadata": {},
   "outputs": [],
   "source": [
    "def eagle_kinematics(position, time):\n",
    "    req_shape = 4\n",
    "    velocity = np.zeros((req_shape-1,)) #array [0, 0]\n",
    "    acceleration = np.zeros((req_shape-2,)) # array [0, 0]\n",
    "    total_vector = np.array([t**3, t**2, t, 1]) # array [8, 4, 2, 1] t is multiplied to the given.\n",
    "    if position.shape == (req_shape,):\n",
    "        velocity = np.array([3*position[0],2*position[1], position[2]]) #array [6, 2, 3]\n",
    "        acceleration = np.array([2*velocity[0],velocity[1]]) # array [12, 2]\n",
    "        position_total = np.sum(np.multiply(position, total_vector)) # np.multiply([8, 4, 2, 1], [2, 1, 3, 2]) = np.sum[16, 4, 6, 2 = 28]\n",
    "        velocity_total = np.sum(np.multiply(velocity, total_vector[1:])) # np.multiply([4, 2, 1], [6, 2, 3]) = np.sum[24, 4, 3 = 31]\n",
    "        acceleration_total = np.sum(np.multiply(acceleration, total_vector[2:])) # np.multiply([2, 1], [12, 2]) = np.sum[24, 2 = 26]\n",
    "        \n",
    "    else:\n",
    "        print(f'Input displacement vector is not valid. Make sure that the vector shape is ({req_shape},)')\n",
    "    \n",
    "    return position_total, velocity_total, acceleration_total"
   ]
  },
  {
   "cell_type": "code",
   "execution_count": 9,
   "metadata": {},
   "outputs": [
    {
     "data": {
      "text/plain": [
       "(28, 31, 26)"
      ]
     },
     "execution_count": 9,
     "metadata": {},
     "output_type": "execute_result"
    }
   ],
   "source": [
    "x = np.array([2,1,3,2])\n",
    "t = 2\n",
    "eagle_kinematics(x, t)"
   ]
  },
  {
   "cell_type": "markdown",
   "metadata": {},
   "source": [
    "### Guide Questions:"
   ]
  },
  {
   "cell_type": "markdown",
   "metadata": {},
   "source": [
    "1. What is the function for? Explain the inputs, process, functions used, and the outputs.\n",
    "   - *def eagle_kinematics* function aims to get the *position_total, velocity_total,* and the *acceleration_total*. The inputs are the positions of the eagle in time labelled as *x* and *t*. Next, the process to get the *position_total* is to use \n",
    "     - *np.multiply([8, 4, 2, 1], [2, 1, 3, 2]) = np.sum[16, 4, 6, 2 = 28]* \n",
    "   - Then, to get the *velocity_total*, use\n",
    "     - *np.multiply([4, 2, 1], [6, 2, 3]) = np.sum[24, 4, 3 = 31]*\n",
    "   - Last is to get the *acceleration_total*,\n",
    "     - *np.multiply([2, 1], [12, 2]) = np.sum[24, 2 = 26]*\n",
    "   - These multiplies the array, then add them up. As for the functions, *np.zeros(), np.array(), np.sum()*, and *np.multiply()* was used in the cell. To return an array full of zeros, *np.zeros()* was used. Meanwhile, *np.array()* was used to create an array. While *np.sum()* was used in order to get the sum of the arrays, *np.multiply()* was used to multiply the array arguments. Finally, the outputs for this cell are *position_velocity, velocity_total*, and *acceleration_total.*\n",
    "\n",
    "2. Kindly provide equations for  $s_t$ , $v_t$ , and  $a_t$  basing on their code.\n",
    "    - Below is the equation for $s_t , v_t$ , and  $a_t$ :\n",
    "<br> $ s_t = $ sum of $ [position[\\colon]] \\times [totalvector[\\colon]] $\n",
    "<br> $ v_t = $ sum of $ [velocity[\\colon]] \\times [totalvector[1\\colon]] $\n",
    "<br> $ a_t = $ sum of $ [acceleration[\\colon]] \\times [totalvector[2\\colon]] $"
   ]
  },
  {
   "cell_type": "markdown",
   "metadata": {},
   "source": [
    "## Part 3: Bebang's Online Business\n",
    "You have a friend named Bebang who has an online business in which she sells donuts. She asks you to make something that helps her to observe the increase and decrease of her profit considering the reach of her online posts. As novice data analytic engineers, you suggest to make a plotter using vectors of her weekly profit and FB post reach for a month. She is amazed that you have this idea and will pay you 15,000 PHP for the program. Thus you venture in implementing your idea with the PH Eagle Tracker as the base code."
   ]
  },
  {
   "cell_type": "code",
   "execution_count": 60,
   "metadata": {},
   "outputs": [],
   "source": [
    "## START OF FUNCTION\n",
    "def month_profit_trace(profit, reach, make_figs=True): ## You can simplify/ optimize this code for extra points\n",
    "    if (profit.shape == (4,)) and (reach.shape == (4,)): \n",
    "        week1 = np.array((reach[0], profit[0]))       \n",
    "        week2 = np.array((reach[1], profit[1]))\n",
    "        week3 = np.array((reach[2], profit[2]))\n",
    "        week4 = np.array((reach[3], profit[3]))\n",
    "        \n",
    "        week_total = week1 + week2 + week3 + week4    ## computes for the result\n",
    "        week_performance = np.linalg.norm(week_total) ## computes the magnitude\n",
    "        alpha = 10**-6\n",
    "        reach_gradient = np.arctan((week_total[1])/(week_total[0] + alpha))  ## computes for the angle of the displacement since it uses arctan\n",
    "        reach_gradient = np.degrees(reach_gradient)                          ## converts theta from rad to deg\n",
    "    \n",
    "        plt.figure(figsize=(16,5))\n",
    "        plt.title('Bebang\\'s Month Post Efficiency')\n",
    "        plt.xlim(0,1.01*np.sum(reach))\n",
    "        plt.ylim(-np.sum(np.abs(profit)),np.sum(np.abs(profit)))\n",
    "        plt.xlabel('FB Post Reach Increment')\n",
    "        plt.ylabel('Profit')\n",
    "        plt.grid()\n",
    "        #n = 2\n",
    "        \n",
    "        # WEEK 1\n",
    "        plt.quiver(0,0, week1[0], week1[1], \n",
    "                   angles='xy', scale_units='xy',scale=1, color='lightseagreen', width=0.0025,\n",
    "                   label='Week 1: {:.2f}'.format(np.linalg.norm(week1)))\n",
    "        \n",
    "        #WEEK 2\n",
    "        plt.quiver(week1[0], week1[1], week2[0], week2[1], \n",
    "                   angles='xy', scale_units='xy',scale=1, color='limegreen', width=0.0025,\n",
    "                   label='Week 2: {:.2f}'.format(np.linalg.norm(week2)))\n",
    "        \n",
    "        #WEEK 3\n",
    "        plt.quiver((week1[0] + week2[0]), (week1[1] + week2[1]), week3[0], week3[1], \n",
    "                   angles='xy', scale_units='xy',scale=1, color='sandybrown', width=0.0025,\n",
    "                   label='Week 3: {:.2f}'.format(np.linalg.norm(week3)))\n",
    "        \n",
    "        #WEEK 4\n",
    "        plt.quiver((week1[0] + week2[0] + week3[0]), (week1[1] + week2[1] + week3[1]), week4[0], week4[1], \n",
    "                   angles='xy', scale_units='xy',scale=1, color='palevioletred', width=0.0025,\n",
    "                   label='Week 4: {:.2f}'.format(np.linalg.norm(week4)))\n",
    "        \n",
    "        ## put necessary vector plotting code here\n",
    "\n",
    "        plt.quiver(0,0, week_total[0], week_total[1],\n",
    "                   angles='xy', scale_units='xy',scale=1, color='violet', width=0.005,\n",
    "                   label='Efficiency: {:.2f} @ {:.2f}'.format(week_performance, reach_gradient))\n",
    "\n",
    "        plt.legend(loc='upper left')\n",
    "\n",
    "        if make_figs:\n",
    "            plt.savefig(f'LinAlg-Lab2-Bebang Post Eff-{int(week_performance)}@{int(reach_gradient)}.png', dpi=300)\n",
    "\n",
    "        plt.show()\n",
    "    \n",
    "    else:\n",
    "        print('Calculations not yet done. It may be finished by the end of the month. Please get back soon.') ## Make a more appropriate error statement. \n",
    "\n",
    "## END OF FUNCTION"
   ]
  },
  {
   "cell_type": "code",
   "execution_count": 95,
   "metadata": {},
   "outputs": [
    {
     "data": {
      "image/png": "[encoded data removed]",
      "text/plain": [
       "<Figure size 1152x360 with 1 Axes>"
      ]
     },
     "metadata": {
      "needs_background": "light"
     },
     "output_type": "display_data"
    }
   ],
   "source": [
    "profit = np.array([-18000, -3000, -12000, -10000]) ## This is Bebang's Online Business profit\n",
    "# OG Values: -18000, 3000, 12000, 10000\n",
    "reach = np.array([-1000, -100, -500, -10])         ## This is Bebang's FB post reach \n",
    "#OG Values: 1000, 100, 500, 10\n",
    "\n",
    "month_profit_trace(profit, reach, make_figs=False) ## Toggle make_figs when making documentation or executing the code"
   ]
  },
  {
   "cell_type": "markdown",
   "metadata": {},
   "source": [
    "### Guide Questions:"
   ]
  },
  {
   "cell_type": "markdown",
   "metadata": {},
   "source": [
    "1. What is the relationship between the FB post reach and the profit?\n",
    "   - The relationship between the profit and the FB Post is directly proportional to the efficiency meaning, if Bebang's FB post reaches more engagements or if her profit increases, her FB post's efficiency goes up as well and the other way around. \n",
    "\n",
    "2. Why is profit in the y-axis and FB post reach on the x-axis and not the other way around?\n",
    "   - The profit in the y-axis and FB post reach is on the x-axis is because it's more efficient. For instance, when there's net loss in our profit, we can have a negaive value. Meanwhile, as for the FB post, since it's a bit irrational or have a negative reach/engagements in Facebook, we could only have positive values. The reason why the profit is not the other way around is because it will be harder to read and the graph would be in a vertical position. If the x and y-axis is in the other way around, the code will be also changed since they are the values related to the x and y-axis specfically plt.xlim, plt.ylim, plt.xlabel, and plt.ylabel.\n",
    "3. Kindly explain the process of plotting the post efficiency vectors.\n",
    "   - It is much similar in the first cell because the process of how they were plot is the same. The parameters that were used is quiver’s call signature *quiver([X, Y], U, V, [C], the units)*. Reach and profit is being represented by xy, the weeks were represented by uv, color for C, and the units that was used are width, scale, scale_units, and angles. The process for the first and third cell is similar but different in values.\n",
    "4. Provide a necessary equations that are representative to finding the  $ performance_{week} $  and  $reach_{gradient}$\n",
    "<br> $ performance_{week} = \\sqrt{weektotal[0]^{2} + weektotal[1]^{2}} $\n",
    "<br> $ reach_{gradient} = \\arctan({weektotal[1]\\div weektotal[0] + \\alpha}) $\n",
    "5. Try to alter the 'reach' and 'profit' values to display different scenarios. Save at least 3 scenarios then append and discuss the figures in your report.\n",
    "##### Derived from the original scenario:\n",
    "    - <b> 1st Scenario: </b> decreased profit = decreased efficiency.\n",
    "    - <b> 2nd Scenario: </b> higher reach = higher efficiency\n",
    "    - <b> 3rd Scenario: </b> decreased reach = decreased efficiency\n",
    "6. What can be observed and concluded with the behavior of the vectors with respect to post efficiency?\n",
    "   - Based on the observations in the graph, everytime that the reach of the profit inscreases or decreases, the efficiency will also decrease or increase. For that reason, in conclusion, the behaviours of the vectors are directly proportional to the Bebang's FB post efficiency."
   ]
  }
 ],
 "metadata": {
  "kernelspec": {
   "display_name": "Python 3",
   "language": "python",
   "name": "python3"
  },
  "language_info": {
   "codemirror_mode": {
    "name": "ipython",
    "version": 3
   },
   "file_extension": ".py",
   "mimetype": "text/x-python",
   "name": "python",
   "nbconvert_exporter": "python",
   "pygments_lexer": "ipython3",
   "version": "3.8.3"
  }
 },
 "nbformat": 4,
 "nbformat_minor": 4
}
